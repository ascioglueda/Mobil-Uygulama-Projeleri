{
 "cells": [
  {
   "cell_type": "code",
   "execution_count": 1,
   "id": "1e308843",
   "metadata": {},
   "outputs": [
    {
     "name": "stdout",
     "output_type": "stream",
     "text": [
      "[[6, 1237, 22097]]\n"
     ]
    }
   ],
   "source": [
    "my_table = [[3,2976,38729],[4,1950,41147],[5,1950,30033],[6,1237,22097],[7,1725,20323],[8,1879,24320],[9,1554,20177],[10,1285,19206]]\n",
    "today = [10,1285,19206]\n",
    "consecutive = []\n",
    "\n",
    "for x in my_table:\n",
    "    for y in range(3):\n",
    "        if today[0] > x[y] and today[1] >= x[y+1]:\n",
    "            consecutive.append(x)\n",
    "    for y in range(3):\n",
    "        if today[0] > x[y] and today[1] >= x[y+2]:\n",
    "            consecutive.append(x)\n",
    "print(consecutive) "
   ]
  },
  {
   "cell_type": "code",
   "execution_count": null,
   "id": "cc43b47a",
   "metadata": {},
   "outputs": [],
   "source": []
  }
 ],
 "metadata": {
  "kernelspec": {
   "display_name": "Python 3 (ipykernel)",
   "language": "python",
   "name": "python3"
  },
  "language_info": {
   "codemirror_mode": {
    "name": "ipython",
    "version": 3
   },
   "file_extension": ".py",
   "mimetype": "text/x-python",
   "name": "python",
   "nbconvert_exporter": "python",
   "pygments_lexer": "ipython3",
   "version": "3.9.12"
  }
 },
 "nbformat": 4,
 "nbformat_minor": 5
}
